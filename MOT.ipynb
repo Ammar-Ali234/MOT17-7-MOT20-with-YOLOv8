{
  "nbformat": 4,
  "nbformat_minor": 0,
  "metadata": {
    "colab": {
      "provenance": []
    },
    "kernelspec": {
      "name": "python3",
      "display_name": "Python 3"
    },
    "language_info": {
      "name": "python"
    }
  },
  "cells": [
    {
      "cell_type": "markdown",
      "source": [
        "# **Thanks for Hiring for you task. Hope you like the work. Ammar Ali**"
      ],
      "metadata": {
        "id": "hCaovSu2vwZu"
      }
    },
    {
      "cell_type": "code",
      "source": [
        "!pip install ultralytics"
      ],
      "metadata": {
        "id": "_xE6V_Jmv_Jg"
      },
      "execution_count": null,
      "outputs": []
    },
    {
      "cell_type": "code",
      "execution_count": null,
      "metadata": {
        "id": "Vqv8BC_-vvd4"
      },
      "outputs": [],
      "source": [
        "from ultralytics import YOLO"
      ]
    },
    {
      "cell_type": "markdown",
      "source": [
        "# **Give the path of youe models**"
      ],
      "metadata": {
        "id": "d8ofzgt7w7XA"
      }
    },
    {
      "cell_type": "code",
      "source": [
        "model = YOLO(\"#paste the path of the model here\")"
      ],
      "metadata": {
        "id": "e2vlQmoJwBYk"
      },
      "execution_count": null,
      "outputs": []
    },
    {
      "cell_type": "markdown",
      "source": [
        "# **After running the below cell, you will have \"RUNS\" folder in your environmet here is Google Colab. navigate to leaf directory where the inference video will be shown, you will have to download the video first to see the results. Also the name of inferenced video will be printed as well when you run the below cell.**"
      ],
      "metadata": {
        "id": "n07SznUjwWzY"
      }
    },
    {
      "cell_type": "code",
      "source": [
        "model.predict(\"path of you images or video which you want to test\", save=True)"
      ],
      "metadata": {
        "id": "owxhc9tFwGiI"
      },
      "execution_count": null,
      "outputs": []
    },
    {
      "cell_type": "markdown",
      "source": [
        "# **Do left your precious words by giving a rating and comments. Thanks Nice meeting you.**"
      ],
      "metadata": {
        "id": "AC-jhm08xE5h"
      }
    },
    {
      "cell_type": "markdown",
      "source": [
        "# **For future support you can connect me on my linkedin profile as well: Link: https://www.linkedin.com/in/mammarali/**"
      ],
      "metadata": {
        "id": "o5kwazXZxdZ9"
      }
    }
  ]
}